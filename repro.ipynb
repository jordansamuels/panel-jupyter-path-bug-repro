{
 "cells": [
  {
   "cell_type": "code",
   "execution_count": null,
   "id": "d09fee1b-c13d-41e2-810e-06f121d973d9",
   "metadata": {},
   "outputs": [],
   "source": [
    "import panel as pn\n",
    "from hello import say_hello  # import fails in panel preview\n",
    "\n",
    "pn.extension()\n",
    "\n",
    "pn.pane.Markdown(f\"# {say_hello()}\")"
   ]
  }
 ],
 "metadata": {
  "kernelspec": {
   "display_name": "Python 3 (ipykernel)",
   "language": "python",
   "name": "python3"
  },
  "language_info": {
   "codemirror_mode": {
    "name": "ipython",
    "version": 3
   },
   "file_extension": ".py",
   "mimetype": "text/x-python",
   "name": "python",
   "nbconvert_exporter": "python",
   "pygments_lexer": "ipython3",
   "version": "3.11.9"
  },
  "panel-cell-order": [
   "aa06f0a7-a12b-4577-a372-5691a7cb4bc4",
   "71b7726c-60c2-46d0-9530-78aec80a7ac8"
  ]
 },
 "nbformat": 4,
 "nbformat_minor": 5
}
